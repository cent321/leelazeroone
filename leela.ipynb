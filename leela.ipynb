{
  "nbformat": 4,
  "nbformat_minor": 0,
  "metadata": {
    "colab": {
      "name": "leela",
      "version": "0.3.2",
      "provenance": []
    },
    "kernelspec": {
      "name": "python3",
      "display_name": "Python 3"
    },
    "accelerator": "GPU"
  },
  "cells": [
    {
      "cell_type": "markdown",
      "metadata": {
        "id": "view-in-github",
        "colab_type": "text"
      },
      "source": [
        "[View in Colaboratory](https://colab.research.google.com/github/cent321/leelazeroone/blob/master/leela.ipynb)"
      ]
    },
    {
      "metadata": {
        "id": "sY6syTzzgwJY",
        "colab_type": "code",
        "colab": {
          "base_uri": "https://localhost:8080/",
          "height": 1459
        },
        "outputId": "c48be362-8367-4326-cbd2-29165c228d83"
      },
      "cell_type": "code",
      "source": [
        "!git clone https://github.com/liujn2018/run_lz_in_gg.git\n",
        "!apt install qt5-default qt5-qmake curl\n",
        "!apt install libboost-dev libboost-program-options-dev libopenblas-dev opencl-headers ocl-icd-opencl-dev\n",
        "!apt update\n",
        "!apt -qq install --no-install-recommends nvidia-opencl-icd-384\n",
        "!wget http://launchpadlibrarian.net/352962266/nvidia-opencl-icd-384_384.111-0ubuntu0.17.10.1_amd64.deb\n",
        "!apt install -f ./nvidia-opencl-icd-384_384.111-0ubuntu0.17.10.1_amd64.deb\n",
        "!apt -qq install --no-install-recommends nvidia-opencl-dev"
      ],
      "execution_count": 1,
      "outputs": [
        {
          "output_type": "stream",
          "text": [
            "Cloning into 'run_lz_in_gg'...\n",
            "remote: Counting objects: 16, done.\u001b[K\n",
            "remote: Compressing objects: 100% (12/12), done.\u001b[K\n",
            "remote: Total 16 (delta 4), reused 15 (delta 3), pack-reused 0\u001b[K\n",
            "Unpacking objects: 100% (16/16), done.\n",
            "Reading package lists... Done\n",
            "Building dependency tree       \n",
            "Reading state information... Done\n",
            "qt5-qmake is already the newest version (5.9.1+dfsg-10ubuntu1).\n",
            "qt5-default is already the newest version (5.9.1+dfsg-10ubuntu1).\n",
            "curl is already the newest version (7.55.1-1ubuntu2.5).\n",
            "0 upgraded, 0 newly installed, 0 to remove and 13 not upgraded.\n",
            "Reading package lists... Done\n",
            "Building dependency tree       \n",
            "Reading state information... Done\n",
            "libboost-dev is already the newest version (1.62.0.1).\n",
            "libboost-program-options-dev is already the newest version (1.62.0.1).\n",
            "ocl-icd-opencl-dev is already the newest version (2.2.11-1ubuntu1).\n",
            "libopenblas-dev is already the newest version (0.2.20+ds-4).\n",
            "opencl-headers is already the newest version (2.1-1).\n",
            "0 upgraded, 0 newly installed, 0 to remove and 13 not upgraded.\n",
            "Hit:1 http://security.ubuntu.com/ubuntu artful-security InRelease\n",
            "Hit:2 http://ppa.launchpad.net/alessandro-strada/ppa/ubuntu artful InRelease\n",
            "Hit:3 http://archive.ubuntu.com/ubuntu artful InRelease\n",
            "Hit:4 http://archive.ubuntu.com/ubuntu artful-updates InRelease\n",
            "Hit:5 http://archive.ubuntu.com/ubuntu artful-backports InRelease\n",
            "Reading package lists... Done\n",
            "Building dependency tree       \n",
            "Reading state information... Done\n",
            "13 packages can be upgraded. Run 'apt list --upgradable' to see them.\n",
            "nvidia-opencl-icd-384 is already the newest version (384.130-0ubuntu0.17.10.1).\n",
            "0 upgraded, 0 newly installed, 0 to remove and 13 not upgraded.\n",
            "--2018-06-05 10:35:18--  http://launchpadlibrarian.net/352962266/nvidia-opencl-icd-384_384.111-0ubuntu0.17.10.1_amd64.deb\n",
            "Resolving launchpadlibrarian.net (launchpadlibrarian.net)... 91.189.89.229, 91.189.89.228\n",
            "Connecting to launchpadlibrarian.net (launchpadlibrarian.net)|91.189.89.229|:80... connected.\n",
            "HTTP request sent, awaiting response... 200 OK\n",
            "Length: 3370468 (3.2M) [application/x-debian-package]\n",
            "Saving to: ‘nvidia-opencl-icd-384_384.111-0ubuntu0.17.10.1_amd64.deb’\n",
            "\n",
            "nvidia-opencl-icd-3 100%[===================>]   3.21M  4.56MB/s    in 0.7s    \n",
            "\n",
            "2018-06-05 10:35:19 (4.56 MB/s) - ‘nvidia-opencl-icd-384_384.111-0ubuntu0.17.10.1_amd64.deb’ saved [3370468/3370468]\n",
            "\n",
            "Reading package lists... Done\n",
            "Building dependency tree       \n",
            "Reading state information... Done\n",
            "Note, selecting 'nvidia-opencl-icd-384' instead of './nvidia-opencl-icd-384_384.111-0ubuntu0.17.10.1_amd64.deb'\n",
            "The following packages will be DOWNGRADED:\n",
            "  nvidia-opencl-icd-384\n",
            "0 upgraded, 0 newly installed, 1 downgraded, 0 to remove and 13 not upgraded.\n",
            "Need to get 0 B/3,370 kB of archives.\n",
            "After this operation, 5,120 B disk space will be freed.\n",
            "Get:1 /content/nvidia-opencl-icd-384_384.111-0ubuntu0.17.10.1_amd64.deb nvidia-opencl-icd-384 amd64 384.111-0ubuntu0.17.10.1 [3,370 kB]\n",
            "\n",
            "\u001b7\u001b[0;23r\u001b8\u001b[1A\u001b[1mdpkg:\u001b[0m \u001b[1;33mwarning:\u001b[0m downgrading nvidia-opencl-icd-384 from 384.130-0ubuntu0.17.10.1 to 384.111-0ubuntu0.17.10.1\n",
            "(Reading database ... 52720 files and directories currently installed.)\n",
            "Preparing to unpack .../nvidia-opencl-icd-384_384.111-0ubuntu0.17.10.1_amd64.deb ...\n",
            "\u001b7\u001b[24;0f\u001b[42m\u001b[30mProgress: [  0%]\u001b[49m\u001b[39m [..........................................................] \u001b8\u001b7\u001b[24;0f\u001b[42m\u001b[30mProgress: [ 16%]\u001b[49m\u001b[39m [#########.................................................] \u001b8Unpacking nvidia-opencl-icd-384 (384.111-0ubuntu0.17.10.1) over (384.130-0ubuntu0.17.10.1) ...\n",
            "\u001b7\u001b[24;0f\u001b[42m\u001b[30mProgress: [ 33%]\u001b[49m\u001b[39m [###################.......................................] \u001b8\u001b7\u001b[24;0f\u001b[42m\u001b[30mProgress: [ 50%]\u001b[49m\u001b[39m [#############################.............................] \u001b8"
          ],
          "name": "stdout"
        },
        {
          "output_type": "stream",
          "text": [
            "Processing triggers for libc-bin (2.26-0ubuntu2.1) ...\n",
            "Setting up nvidia-opencl-icd-384 (384.111-0ubuntu0.17.10.1) ...\n",
            "\u001b7\u001b[24;0f\u001b[42m\u001b[30mProgress: [ 66%]\u001b[49m\u001b[39m [######################################....................] \u001b8\u001b7\u001b[24;0f\u001b[42m\u001b[30mProgress: [ 83%]\u001b[49m\u001b[39m [################################################..........] \u001b8Processing triggers for libc-bin (2.26-0ubuntu2.1) ...\n",
            "\n",
            "\u001b7\u001b[0;24r\u001b8\u001b[1A\u001b[JThe following packages will be REMOVED:\n",
            "  ocl-icd-opencl-dev\n",
            "The following NEW packages will be installed:\n",
            "  nvidia-opencl-dev\n",
            "0 upgraded, 1 newly installed, 1 to remove and 14 not upgraded.\n",
            "Need to get 23.7 kB of archives.\n",
            "After this operation, 100 kB of additional disk space will be used.\n",
            "\n",
            "(Reading database ... 52720 files and directories currently installed.)\n",
            "Removing ocl-icd-opencl-dev:amd64 (2.2.11-1ubuntu1) ...\n",
            "\u001b7\u001b[24;0f\u001b[42m\u001b[30mProgress: [  0%]\u001b[49m\u001b[39m [..........................................................] \u001b8\u001b7\u001b[24;0f\u001b[42m\u001b[30mProgress: [ 11%]\u001b[49m\u001b[39m [######....................................................] \u001b8\u001b7\u001b[24;0f\u001b[42m\u001b[30mProgress: [ 22%]\u001b[49m\u001b[39m [############..............................................] \u001b8\u001b7\u001b[24;0f\u001b[42m\u001b[30mProgress: [ 33%]\u001b[49m\u001b[39m [###################.......................................] \u001b8Selecting previously unselected package nvidia-opencl-dev:amd64.\n",
            "(Reading database ... 52715 files and directories currently installed.)\n",
            "Preparing to unpack .../nvidia-opencl-dev_8.0.61-1_amd64.deb ...\n",
            "\u001b7\u001b[24;0f\u001b[42m\u001b[30mProgress: [ 44%]\u001b[49m\u001b[39m [#########################.................................] \u001b8Unpacking nvidia-opencl-dev:amd64 (8.0.61-1) ...\n",
            "\u001b7\u001b[24;0f\u001b[42m\u001b[30mProgress: [ 55%]\u001b[49m\u001b[39m [################################..........................] \u001b8\u001b7\u001b[24;0f\u001b[42m\u001b[30mProgress: [ 66%]\u001b[49m\u001b[39m [######################################....................] \u001b8Setting up nvidia-opencl-dev:amd64 (8.0.61-1) ...\n",
            "\u001b7\u001b[24;0f\u001b[42m\u001b[30mProgress: [ 77%]\u001b[49m\u001b[39m [#############################################.............] \u001b8\u001b7\u001b[24;0f\u001b[42m\u001b[30mProgress: [ 88%]\u001b[49m\u001b[39m [###################################################.......] \u001b8\n",
            "\u001b7\u001b[0;24r\u001b8\u001b[1A\u001b[J"
          ],
          "name": "stdout"
        }
      ]
    },
    {
      "metadata": {
        "id": "y3bsBnW9g3Mq",
        "colab_type": "code",
        "colab": {
          "base_uri": "https://localhost:8080/",
          "height": 935
        },
        "outputId": "49b866b0-5ded-4a8d-b018-8fc33101d3df"
      },
      "cell_type": "code",
      "source": [
        "!cd run_lz_in_gg && ./autogtp -k sgf"
      ],
      "execution_count": 2,
      "outputs": [
        {
          "output_type": "stream",
          "text": [
            "AutoGTP v16\r\n",
            "Using 1 thread(s) for GPU(s).\r\n",
            "Starting tuning process, please wait...\n",
            "Net filename: networks/10bc10423a73b54f282a40b9e2278da803a42a6afe354b91f4b6955b659d31c7\n",
            "net: 10bc10423a73b54f282a40b9e2278da803a42a6afe354b91f4b6955b659d31c7.\n",
            "./leelaz --tune-only -w networks/10bc10423a73b54f282a40b9e2278da803a42a6afe354b91f4b6955b659d31c7\n",
            "Using 2 thread(s).\n",
            "RNG seed: 3615494984988697253\n",
            "Detecting residual layers...v1...192 channels...15 blocks.\n",
            "Initializing OpenCL.\n",
            "Detected 1 OpenCL platforms.\n",
            "Platform version: OpenCL 1.2 CUDA 9.0.282\n",
            "Platform profile: FULL_PROFILE\n",
            "Platform name:    NVIDIA CUDA\n",
            "Platform vendor:  NVIDIA Corporation\n",
            "Device ID:     0\n",
            "Device name:   Tesla K80\n",
            "Device type:   GPU\n",
            "Device vendor: NVIDIA Corporation\n",
            "Device driver: 384.111\n",
            "Device speed:  823 MHz\n",
            "Device cores:  13 CU\n",
            "Device score:  1112\n",
            "Selected platform: NVIDIA CUDA\n",
            "Selected device: Tesla K80\n",
            "with OpenCL 1.2 capability.\n",
            "Loaded existing SGEMM tuning.\n",
            "Tuning process finished\n",
            "Starting thread 1 on GPU 0\n",
            "{\n",
            "    \"cmd\": \"selfplay\",\n",
            "    \"hash\": \"10bc10423a73b54f282a40b9e2278da803a42a6afe354b91f4b6955b659d31c7\",\n",
            "    \"minimum_autogtp_version\": \"16\",\n",
            "    \"minimum_leelaz_version\": \"0.15\",\n",
            "    \"options\": {\n",
            "        \"noise\": \"true\",\n",
            "        \"playouts\": \"0\",\n",
            "        \"randomcnt\": \"999\",\n",
            "        \"resignation_percent\": \"5\",\n",
            "        \"visits\": \"3201\"\n",
            "    },\n",
            "    \"options_hash\": \"df715e\",\n",
            "    \"random_seed\": \"425866190977918841\",\n",
            "    \"required_client_version\": \"16\"\n",
            "}\n",
            "\n",
            "Got new job: selfplay\n",
            "net: 10bc10423a73b54f282a40b9e2278da803a42a6afe354b91f4b6955b659d31c7.\n",
            "Engine has started.\n",
            "Infinite thinking time set.\n",
            "1 (B D16) ^C\n"
          ],
          "name": "stdout"
        }
      ]
    }
  ]
}